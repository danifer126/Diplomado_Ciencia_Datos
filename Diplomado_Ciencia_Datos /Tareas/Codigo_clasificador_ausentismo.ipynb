{
  "cells": [
    {
      "cell_type": "markdown",
      "metadata": {
        "id": "view-in-github",
        "colab_type": "text"
      },
      "source": [
        "<a href=\"https://colab.research.google.com/github/danifer126/Diplomado_Ciencia_Datos/blob/main/Diplomado_Ciencia_Datos%20/Tareas/Codigo_clasificador_ausentismo.ipynb\" target=\"_parent\"><img src=\"https://colab.research.google.com/assets/colab-badge.svg\" alt=\"Open In Colab\"/></a>"
      ]
    },
    {
      "cell_type": "markdown",
      "metadata": {
        "id": "Ox2RVIyS_JwX"
      },
      "source": [
        "# CLASIFICADOR DE AUSENTISMO DE ESTUDIANTES DE ECUCACIÓN SUPERIOR\n",
        "\n",
        "## PRE-PROCESAMIENTO DE LOS DATOS\n",
        "### Cargue de datos\n",
        "\n",
        "---\n",
        "\n"
      ]
    },
    {
      "cell_type": "code",
      "execution_count": 1,
      "metadata": {
        "id": "-O55-_4JsQst"
      },
      "outputs": [],
      "source": [
        "import pandas as pd\n",
        "from sklearn.decomposition import PCA\n",
        "from sklearn.preprocessing import MinMaxScaler\n",
        "# Tratamiento de datos\n",
        "# ==============================================================================\n",
        "import numpy as np\n",
        "import pandas as pd\n",
        "import statsmodels.api as sm\n",
        "import multiprocessing\n",
        "# Gráficos\n",
        "# ==============================================================================\n",
        "import matplotlib.pyplot as plt\n",
        "import matplotlib.font_manager\n",
        "from matplotlib import style\n",
        "style.use('ggplot') or plt.style.use('ggplot')\n",
        "\n",
        "# Preprocesado y modelado\n",
        "# ==============================================================================\n",
        "from sklearn.decomposition import PCA\n",
        "from sklearn.pipeline import make_pipeline\n",
        "from sklearn.preprocessing import StandardScaler\n",
        "from sklearn.preprocessing import scale\n",
        "\n",
        "# Configuración warnings\n",
        "# ==============================================================================\n",
        "import warnings\n",
        "warnings.filterwarnings('ignore')"
      ]
    },
    {
      "cell_type": "markdown",
      "source": [
        "### Datos originales"
      ],
      "metadata": {
        "id": "SljiXuOz99ye"
      }
    },
    {
      "cell_type": "code",
      "execution_count": 13,
      "metadata": {
        "id": "VzLEkl6NrtSa"
      },
      "outputs": [],
      "source": [
        "\n",
        "# Carga el archivo .xlsx en un DataFrame\n",
        "df_encuesta = pd.read_excel('CARACTERIZACION.xlsx','Datos')\n",
        "df_codificacion = pd.read_excel('CODIFICACION.xlsx','Hoja1')\n",
        "\n"
      ]
    },
    {
      "cell_type": "markdown",
      "source": [
        "Lista de preguntas que tienen respuestas multiples"
      ],
      "metadata": {
        "id": "vQuk6-XjOoRv"
      }
    },
    {
      "cell_type": "code",
      "execution_count": 2,
      "metadata": {
        "id": "VNi7nwqzvOCl"
      },
      "outputs": [],
      "source": [
        "multi=[\n",
        "  # ACADEMICAS\n",
        "  'PROMEDIO ACUMULADO',\n",
        "  'En cuál de las siguientes áreas tiene mayor debilidad.',\n",
        "'¿Las razones por las que dejó de estudiar el programa de lengua extranjera o de nivel técnico o tecnológico son? (Múltiple respuesta)',\n",
        "'¿Por cuáles de las siguientes razones ha contemplado o contemplaría abandonar sus estudios? (puede marcar varias opciones)',\n",
        "'¿Las razones por las que dejó de estudiar el programa de pregrado son? (Múltiple respuesta) ',\n",
        "'Inmediatamente después de haber obtenido el último título educativo: (Multiple respuesta)',\n",
        "'¿Durante su educación media presentó alguna de las siguientes situaciones? (Múltiple respuesta)',\n",
        "'¿Cuáles de las siguientes herramientas tecnológicas digitales maneja?  (Múltiple respuesta)',\n",
        "'¿Por cuáles de las siguientes razones ha contemplado o contemplaría abandonar sus estudios? (puede marcar varias opciones)',\n",
        "  # FAMILIARES\n",
        "'¿Actualmente en su familia se presentan algunas de las siguientes situaciones? (Múltiple respuesta)',\n",
        "'Los apoyos recibidos por familia, amigos y/o conocidos para realizar sus estudios están orientados a:  (Múltiple respuesta)',\n",
        "  # INDIVIDUALES\n",
        "'Sus mayores temores con relación a la vida universitaria son (Múltiple respuesta)',\\\n",
        "  '¿Consume o ha consumido alguna Sustancia Psicoactiva (legal o ilegal) durante los últimos seis meses?',\n",
        "'¿Con cuál de las siguentes relaciones no se siente satisfecho? (Múltiple respuesta) ',\n",
        "'¿Cuál(es) de las siguientes situaciones ha presentado alguna vez? (Múltiple respuesta)',\n",
        "'¿Cuál(es) de las siguientes situaciones se le han presentado en su vida (Múltiple respuesta)',\n",
        "'Posee alguna  necesidad educativa diferenciada como: (Múltiple respuesta)',\n",
        "'Se reconoce o pertenece a alguno de los siguientes grupos poblacionales: (Múltiple respuesta)',\n",
        "'Si usted se auto reconoce como indígena, seleccione a cuál pueblo indígena pertenece',\n",
        "'¿Cuáles son los aspectos más importantes en su vida? (Múltiple respuesta)',\n",
        "'Frecuentemente ¿cómo se transporta a la universidad?',\n",
        "'¿Qué tipo de actividad realiza en su tiempo libre?',\n",
        "  # SOCIOECONOMUCAS\n",
        "'¿Cuál de las siguientes opciones representa su principal motivo para trabajar? (Múltiple respuesta)',\n",
        "'¿Cuál(es) de los siguientes gastos universitarios NO está en condiciones de cubrir con recursos propios o familiares? (Múltiple respuesta)',\n",
        "'¿Con qué medios tecnológicos cuenta?  (Múltiple respuesta)',\n",
        "'¿Cuáles de las siguientes características se presentan en el sector donde usted vive? (Múltiple respuesta)']\n",
        "\n",
        "\n",
        "# preguntas multiples por cada componente\n",
        "multi_academic=multi[0:7]\n",
        "multi_familiar=multi[7:9]\n",
        "multi_individual=multi[9:18]\n",
        "multi_socio=multi[18:23]"
      ]
    },
    {
      "cell_type": "markdown",
      "source": [
        "Se elabora una función para convertir en variables dummies a la variables de selección multiple, ya que pueden encontrarse más de una opción por cada individuo,."
      ],
      "metadata": {
        "id": "J6RvbMBwyxk7"
      }
    },
    {
      "cell_type": "code",
      "execution_count": 3,
      "metadata": {
        "id": "4jPvx1bvqLcP"
      },
      "outputs": [],
      "source": [
        "\n",
        "\n",
        "import pandas as pd\n",
        "\n",
        "\n",
        "def procesar_variable(variable):\n",
        "    filtro = df_codificacion['PREGUNTA'] == variable\n",
        "    categorias = df_codificacion.loc[filtro, 'RESPUESTA'].tolist()\n",
        "    respuestas = df_encuesta[variable].tolist()\n",
        "    df = pd.DataFrame(columns=categorias)\n",
        "    for respuesta in respuestas:\n",
        "        row = {categoria: 1 if pd.Series(str(respuesta)).str.contains(categoria).any() else 0 for categoria in categorias}\n",
        "        df = df.append(row, ignore_index=True)\n",
        "    return df\n",
        "\n",
        "\n",
        "def multiples(variable):\n",
        "  df_vacio = pd.DataFrame()\n",
        "  num_nucleos = multiprocessing.cpu_count()\n",
        "  pool = multiprocessing.Pool(processes=num_nucleos)\n",
        "  resultados = pool.map(procesar_variable, variable)\n",
        "  pool.close()\n",
        "  pool.join()\n",
        "  df_vacio = pd.concat(resultados, axis=1)\n",
        "  return df_vacio\n",
        "\n"
      ]
    },
    {
      "cell_type": "markdown",
      "source": [
        "La función  dividir_variables divide las componentes entre conjutos con variables únicas y otro con varaibles múltiples\n"
      ],
      "metadata": {
        "id": "zn70GRV3zBHK"
      }
    },
    {
      "cell_type": "code",
      "source": [
        "# divide un dataframe en dos, dependendiend de una lsita de nombres de varriables.\n",
        "\n",
        "def dividir_variables(df, lista_variables):\n",
        "    variables_en_lista = [col for col in lista_variables if col in df.columns]\n",
        "    variables_no_en_lista = [col for col in df.columns if col not in lista_variables]\n",
        "\n",
        "    df_en_lista = df[variables_en_lista].copy()\n",
        "    df_no_en_lista = df[variables_no_en_lista].copy()\n",
        "\n",
        "    return df_en_lista, df_no_en_lista\n",
        "\n",
        "\n",
        "#est1,test2=dividir_variables(academic,multi_academic)"
      ],
      "metadata": {
        "id": "zBAT93USPFPr"
      },
      "execution_count": 4,
      "outputs": []
    },
    {
      "cell_type": "markdown",
      "metadata": {
        "id": "z3XXh9kg2O_1"
      },
      "source": [
        "### Codificación One Hot\n",
        "\n",
        "Se codifican todas las varaibles de forma dummie y se descargan los conjuntos resultados, ya que por el tamaño del conjunto y la cantidad de variables toma tiempo considerable correr frecuentemente este codigo."
      ]
    },
    {
      "cell_type": "code",
      "execution_count": null,
      "metadata": {
        "id": "HJTrw4ZzujrL"
      },
      "outputs": [],
      "source": [
        "\n",
        "# Preguntas componente socioeconómico\n",
        "socio=df_encuesta.iloc[:,59:95]\n",
        "# Se separan en variables multiples y varaibles de respuesta única\n",
        "soci_respmulti,soci_respunic=dividir_variables(socio,multi_socio)\n",
        "#Se convierte en variables dummies a las varaibles de respuesta única\n",
        "soci_encoded = pd.get_dummies(soci_respunic)\n",
        "#Se convierte en variables dummies a las varaibles de respuestas múltiples\n",
        "soci_multi_encode=multiples(multi_socio)\n",
        "\n",
        "# se concatenan los dos conjuntos\n",
        "socio_encoded = pd.concat([soci_encoded, soci_multi_encode], axis=1)\n",
        "# se almacena en disco el conjunto obtenido\n",
        "socio_encoded.to_excel(\"socio_encoded.xlsx\", index=False, header=True)"
      ]
    },
    {
      "cell_type": "code",
      "source": [
        "# Preguntas componente académico\n",
        "academic=df_encuesta.iloc[:,6:31]\n",
        "# Se separan en variables multiples y varaibles de respuesta única\n",
        "academic_respmulti,academic_respunic=dividir_variables(academic,multi_academic)\n",
        "#Se convierte en variables dummies a las varaibles de respuesta única\n",
        "academic_encoded = pd.get_dummies(academic_respunic)\n",
        "#Se convierte en variables dummies a las varaibles de respuestas múltiples\n",
        "acada_multi_encode=multiples(multi_academic)\n",
        "\n",
        "# se concatenan los dos conjuntos\n",
        "academic_encoded = pd.concat([academic_encoded, acada_multi_encode], axis=1)\n",
        "# se almacena en disco el conjunto obtenido\n",
        "academic_encoded.to_excel(\"academic_encoded.xlsx\", index=False, header=True)"
      ],
      "metadata": {
        "id": "-wft34p-lbSb"
      },
      "execution_count": null,
      "outputs": []
    },
    {
      "cell_type": "code",
      "source": [
        "# Preguntas componente individual\n",
        "individuo=df_encuesta.iloc[:,42:59]\n",
        "# Se separan en variables multiples y varaibles de respuesta única\n",
        "indi_respmulti,indi_respunic=dividir_variables(individuo,multi_individual)\n",
        "#Se convierte en variables dummies a las varaibles de respuesta única\n",
        "indi_encoded = pd.get_dummies(indi_respunic)\n",
        "#Se convierte en variables dummies a las varaibles de respuestas múltiples\n",
        "indi_multi_encode=multiples(multi_individual)\n",
        "# se concatenan los dos conjuntos\n",
        "individuo_encoded = pd.concat([indi_encoded, indi_multi_encode], axis=1)\n",
        "# se almacena en disco el conjunto obtenido\n",
        "individuo_encoded.to_excel(\"individuo_encoded.xlsx\", index=False, header=True)"
      ],
      "metadata": {
        "id": "PmBABE10mNs6"
      },
      "execution_count": null,
      "outputs": []
    },
    {
      "cell_type": "code",
      "source": [
        "# Preguntas componente familiar\n",
        "familiar=df_encuesta.iloc[:,32:44]\n",
        "# Se separan en variables multiples y varaibles de respuesta única\n",
        "multi_familiar2,familia_respunic=dividir_variables(familiar,multi_familiar)\n",
        "#Se convierte en variables dummies a las varaibles de respuesta única\n",
        "familia_encoded = pd.get_dummies(familia_respunic)\n",
        "#Se convierte en variables dummies a las varaibles de respuestas múltiples\n",
        "famili_multi_encode=multiples(multi_familiar)\n",
        "# se concatenan los dos conjuntos\n",
        "familiar_encoded = pd.concat([familia_encoded, famili_multi_encode], axis=1)\n",
        "# se almacena en disco el conjunto obtenido\n",
        "familiar_encoded.to_excel(\"familiar_encoded.xlsx\", index=False, header=True)\n"
      ],
      "metadata": {
        "id": "Ip-RxHh2nCjk"
      },
      "execution_count": null,
      "outputs": []
    },
    {
      "cell_type": "markdown",
      "source": [
        "#### Datos con todas las preguntas"
      ],
      "metadata": {
        "id": "KNwkYFHA25od"
      }
    },
    {
      "cell_type": "code",
      "source": [
        "\n",
        "academic_encoded = pd.read_excel('academic_encoded.xlsx')\n",
        "familiar_encoded = pd.read_excel('familiar_encoded.xlsx')\n",
        "individuo_encoded = pd.read_excel('individuo_encoded.xlsx')\n",
        "socio_encoded = pd.read_excel('socio_encoded.xlsx')"
      ],
      "metadata": {
        "id": "uDe9EKToQHva"
      },
      "execution_count": 9,
      "outputs": []
    },
    {
      "cell_type": "markdown",
      "metadata": {
        "id": "E7Rs_ZXt21yr"
      },
      "source": []
    },
    {
      "cell_type": "markdown",
      "source": [
        "#### Datos sin las preguntas multiples"
      ],
      "metadata": {
        "id": "I87N2hslGFor"
      }
    },
    {
      "cell_type": "code",
      "execution_count": 39,
      "metadata": {
        "id": "6QyiaIE-2Y1l"
      },
      "outputs": [],
      "source": [
        "\n",
        "### CONJUNTOS DE DATOS SIN LAS VARIABLES CON RESPUESTAS MULTIPLES\n",
        "academic=df_encuesta.iloc[:,6:31]\n",
        "academic=academic.drop(columns=[col for col in multi if col in academic.columns])\n",
        "\n",
        "individuo=df_encuesta.iloc[:,42:59]\n",
        "individuo=individuo.drop(columns=[col for col in multi if col in individuo.columns])\n",
        "\n",
        "socio=df_encuesta.iloc[:,59:95]\n",
        "socio=socio.drop(columns=[col for col in multi if col in socio.columns])\n",
        "\n",
        "familiar=df_encuesta.iloc[:,32:44]\n",
        "familiar=familiar.drop(columns=[col for col in multi if col in familiar.columns])\n",
        "\n",
        "\n",
        "\n",
        "academic_encoded = pd.get_dummies(academic)\n",
        "familiar_encoded = pd.get_dummies(familiar)\n",
        "individuo_encoded = pd.get_dummies(individuo)\n",
        "socio_encoded = pd.get_dummies(socio)\n"
      ]
    },
    {
      "cell_type": "markdown",
      "metadata": {
        "id": "uOkqQm5b3q28"
      },
      "source": [
        "### Análisis de componentes principales para cada dimensión\n",
        "\n",
        "Se elabora"
      ]
    },
    {
      "cell_type": "code",
      "execution_count": 10,
      "metadata": {
        "id": "xw2hy9xU6Wrr"
      },
      "outputs": [],
      "source": [
        "from sklearn.decomposition import PCA\n",
        "import numpy as np\n",
        "\n",
        "def apply_pca(datos, umbral_varianza=0.90):    # umbral de varianza explicada\n",
        "    # Crear objeto PCA y ajustar los datos\n",
        "\n",
        "    pca = PCA()\n",
        "    pca.fit(datos)\n",
        "\n",
        "\n",
        "    # Calcular el número de componentes necesarios para alcanzar el umbral de varianza\n",
        "    varianza_acumulada = np.cumsum(pca.explained_variance_ratio_)\n",
        "    num_componentes = np.argmax(varianza_acumulada >= umbral_varianza) + 1\n",
        "   # print(varianza_acumulada)\n",
        "    # Reducir la dimensionalidad utilizando los componentes seleccionados\n",
        "    componentes_principales = pca.transform(datos)[:, :num_componentes]\n",
        "    print(\"Número de componentes seleccionados:\", num_componentes, \", Número de cols inicial:\",datos.shape[1])\n",
        "\n",
        "    return componentes_principales\n",
        "\n"
      ]
    },
    {
      "cell_type": "code",
      "execution_count": 40,
      "metadata": {
        "colab": {
          "base_uri": "https://localhost:8080/"
        },
        "id": "vcgBrR9tQ41o",
        "outputId": "b53907b9-ef7e-4656-b085-3b26a2dbbe28"
      },
      "outputs": [
        {
          "output_type": "stream",
          "name": "stdout",
          "text": [
            "Número de componentes seleccionados: 35 , Número de cols inicial: 157\n",
            "Número de componentes seleccionados: 17 , Número de cols inicial: 42\n",
            "Número de componentes seleccionados: 11 , Número de cols inicial: 125\n",
            "Número de componentes seleccionados: 55 , Número de cols inicial: 596\n"
          ]
        }
      ],
      "source": [
        "academic_pca=pd.DataFrame(apply_pca(academic_encoded))\n",
        "familiar_pca=pd.DataFrame(apply_pca(familiar_encoded))\n",
        "individuo_pca=pd.DataFrame(apply_pca(individuo_encoded))\n",
        "socio_pca=pd.DataFrame(apply_pca(socio_encoded))\n",
        "\n"
      ]
    },
    {
      "cell_type": "markdown",
      "source": [
        "### Selección de conjunto\n",
        "\n",
        "Dependiendo de cual conjunto de datos se seleccione en este partado se concatena en el conjunto **X** y el **y**"
      ],
      "metadata": {
        "id": "98v2DKXpE6vY"
      }
    },
    {
      "cell_type": "code",
      "execution_count": 41,
      "metadata": {
        "id": "4WcPO-r3T14L"
      },
      "outputs": [],
      "source": [
        "# Targets (Y) y features (X)\n",
        "\n",
        "X = pd.concat([academic_pca,familiar_pca,individuo_pca,socio_pca], axis=1).astype(float)\n",
        "#X=familiar_pca.astype(float)\n",
        "y = df_encuesta.iloc[:, 1].replace({'Si': 0, 'No': 1}).astype(int)\n",
        "\n",
        "\n"
      ]
    },
    {
      "cell_type": "markdown",
      "metadata": {
        "id": "ho044lwYeNZN"
      },
      "source": [
        "### **Balanceo de conjunto de validación**\n",
        "\n",
        "Considerando los problemas que se pueden generar por el desbalanceo de datos, se propone utilizar sobre los conjuntos previamente defincidos el balanceo para el conjunto de entrenamiento."
      ]
    },
    {
      "cell_type": "code",
      "execution_count": 42,
      "metadata": {
        "colab": {
          "base_uri": "https://localhost:8080/"
        },
        "id": "sKww8sj6iPr7",
        "outputId": "f6687cce-88a7-4f1a-d3d2-5eee98a26d80"
      },
      "outputs": [
        {
          "output_type": "stream",
          "name": "stdout",
          "text": [
            "tamaño de los targets:  (3401,)\n",
            "tamaño de los features:  (3401, 118)\n"
          ]
        }
      ],
      "source": [
        "# Separa features y targets\n",
        "targets = df_encuesta.iloc[:, 1].replace({'Si': 0, 'No': 1})\n",
        "targets = np.array(targets, dtype = 'uint8')\n",
        "targets.reshape((targets.shape[0],1))\n",
        "#\n",
        "features = np.array(X,dtype = 'float32')\n",
        "#\n",
        "print(\"tamaño de los targets: \",targets.shape)\n",
        "print(\"tamaño de los features: \",features.shape)"
      ]
    },
    {
      "cell_type": "code",
      "execution_count": 43,
      "metadata": {
        "colab": {
          "base_uri": "https://localhost:8080/"
        },
        "id": "KNMwZx99eYJl",
        "outputId": "ddd6621c-cb2b-4fba-d653-91a1ec907245"
      },
      "outputs": [
        {
          "output_type": "stream",
          "name": "stdout",
          "text": [
            "3401\n",
            "2854\n",
            "      0\n",
            "0     0\n",
            "1     0\n",
            "2     0\n",
            "3     0\n",
            "4     0\n",
            "...  ..\n",
            "3394  0\n",
            "3395  0\n",
            "3396  0\n",
            "3397  0\n",
            "3398  0\n",
            "\n",
            "[2854 rows x 1 columns]\n",
            "547\n",
            "      0\n",
            "5     1\n",
            "18    1\n",
            "27    1\n",
            "34    1\n",
            "48    1\n",
            "...  ..\n",
            "3381  1\n",
            "3384  1\n",
            "3391  1\n",
            "3399  1\n",
            "3400  1\n",
            "\n",
            "[547 rows x 1 columns]\n"
          ]
        }
      ],
      "source": [
        "\n",
        "targetsdf=pd.DataFrame(targets)\n",
        "print(len(targetsdf))\n",
        "condicion=targetsdf[0]<1\n",
        "targetsdf0=targetsdf[condicion]\n",
        "print(len(targetsdf0))\n",
        "print(targetsdf0)\n",
        "\n",
        "condicion1=targetsdf[0]>0\n",
        "targetsdf1=targetsdf[condicion1]\n",
        "print(len(targetsdf1))\n",
        "print(targetsdf1)"
      ]
    },
    {
      "cell_type": "code",
      "execution_count": 44,
      "metadata": {
        "colab": {
          "base_uri": "https://localhost:8080/"
        },
        "id": "_MqiSy74e4R_",
        "outputId": "74adb05f-d0f9-4b26-a3dd-29c41fe8508c"
      },
      "outputs": [
        {
          "output_type": "stream",
          "name": "stdout",
          "text": [
            "Number of training samples: 438\n",
            "Number of validation samples: 109\n"
          ]
        }
      ],
      "source": [
        "num_val_samples = int(len(targetsdf1) * 0.2)\n",
        "train_targets1 = targetsdf1[:-num_val_samples]\n",
        "val_targets1 = targetsdf1[-num_val_samples:]\n",
        "\n",
        "print(\"Number of training samples:\", len(train_targets1))\n",
        "print(\"Number of validation samples:\", len(val_targets1))"
      ]
    },
    {
      "cell_type": "code",
      "execution_count": 47,
      "metadata": {
        "colab": {
          "base_uri": "https://localhost:8080/"
        },
        "id": "0Coat7QofGXP",
        "outputId": "52b5cd75-2984-4472-893b-f88d183439ce"
      },
      "outputs": [
        {
          "output_type": "stream",
          "name": "stdout",
          "text": [
            "Muestra:\n",
            "      0\n",
            "640   0\n",
            "2800  0\n",
            "560   0\n",
            "2646  0\n",
            "1204  0\n",
            "...  ..\n",
            "364   0\n",
            "90    0\n",
            "1284  0\n",
            "2583  0\n",
            "1006  0\n",
            "\n",
            "[438 rows x 1 columns]\n"
          ]
        }
      ],
      "source": [
        "# Configurar la semilla aleatoria (opcional)\n",
        "random_seed = 57\n",
        "pd.np.random.seed(random_seed)\n",
        "\n",
        "# Tamaño de la muestra deseada\n",
        "tam_muestra = 438\n",
        "\n",
        "# Realizar el muestreo aleatorio simple\n",
        "\n",
        "muestra = targetsdf0.sample(n=tam_muestra, replace=False)\n",
        "print(\"Muestra:\")\n",
        "#print(muestra)\n",
        "muestra0=pd.DataFrame(muestra)\n",
        "print(muestra0)"
      ]
    },
    {
      "cell_type": "code",
      "execution_count": 18,
      "metadata": {
        "colab": {
          "base_uri": "https://localhost:8080/"
        },
        "id": "szTekJ4xfTkA",
        "outputId": "9711fd53-5d72-4d50-b3ea-d6e1abe2cb96"
      },
      "outputs": [
        {
          "output_type": "stream",
          "name": "stdout",
          "text": [
            "<PandasArray>\n",
            "[ 640, 2800,  560, 2646, 1204,  744,  552, 2853,  470, 3218,\n",
            " ...\n",
            " 2728, 2732, 2749, 2755, 2760, 2766, 2770, 2774, 2776, 2781]\n",
            "Length: 876, dtype: int64\n"
          ]
        }
      ],
      "source": [
        "EtiqBalanceados=pd.concat([muestra0,train_targets1])\n",
        "EtiqBalanceados\n",
        "indiceBal=pd.array(EtiqBalanceados.index)\n",
        "print(indiceBal)"
      ]
    },
    {
      "cell_type": "markdown",
      "source": [
        "El conjunto de muestra balanceados"
      ],
      "metadata": {
        "id": "bkeeMC2gBzJT"
      }
    },
    {
      "cell_type": "code",
      "execution_count": 48,
      "metadata": {
        "id": "25uWvlqafWmk"
      },
      "outputs": [],
      "source": [
        "XBalanceados = X.iloc[indiceBal]\n",
        "\n",
        "y = df_encuesta.iloc[indiceBal, 1].replace({'Si': 0, 'No': 1}).astype(int)\n",
        "\n",
        "\n",
        "\n",
        "todosIndices = np.arange(len(X.index))  # Vector de todos los índices posibles\n",
        "\n",
        "\n",
        "complementoIndices = np.setdiff1d(todosIndices, indiceBal)\n",
        "\n",
        "X_RESTO = X.loc[complementoIndices]\n",
        "\n",
        "y_RESTO = df_encuesta.iloc[complementoIndices, 1].replace({'Si': 0, 'No': 1}).astype(int)\n",
        "\n"
      ]
    },
    {
      "cell_type": "code",
      "execution_count": null,
      "metadata": {
        "id": "T5a7EZsxuL9H"
      },
      "outputs": [],
      "source": []
    },
    {
      "cell_type": "markdown",
      "metadata": {
        "id": "5Ahg4KwM9tV5"
      },
      "source": [
        "# Modelo de redes de propagación en tensor flow\n",
        "\n"
      ]
    },
    {
      "cell_type": "code",
      "execution_count": 20,
      "metadata": {
        "colab": {
          "base_uri": "https://localhost:8080/"
        },
        "id": "Qz9sxGS4Z-V1",
        "outputId": "2b66bae2-fd0a-4771-f070-f62b77ccb237"
      },
      "outputs": [
        {
          "output_type": "stream",
          "name": "stdout",
          "text": [
            "2.12.0\n"
          ]
        }
      ],
      "source": [
        "from __future__ import absolute_import, division, print_function, unicode_literals\n",
        "#\n",
        "#import csv\n",
        "import pandas as pd\n",
        "import numpy as np\n",
        "import matplotlib.pyplot as plt\n",
        "import seaborn as sns\n",
        "import tensorflow as tf\n",
        "#\n",
        "\n",
        "from tensorflow.keras.models import Model\n",
        "#\n",
        "from tensorflow.keras.layers import Dense, Input, Activation, Dropout\n",
        "#\n",
        "from tensorflow.keras.utils import plot_model\n",
        "#\n",
        "from sklearn.preprocessing import StandardScaler\n",
        "from sklearn.metrics import confusion_matrix\n",
        "\n",
        "#\n",
        "from tensorflow.keras. metrics import FalseNegatives, FalsePositives, TrueNegatives\n",
        "from tensorflow.keras. metrics import TruePositives, Precision, Recall\n",
        "#\n",
        "from tensorflow.keras.optimizers import Adam\n",
        "#\n",
        "from tensorflow.keras import callbacks\n",
        "#\n",
        "from sklearn.metrics import roc_curve, auc\n",
        "from sklearn.metrics import roc_auc_score\n",
        "print(tf.__version__)"
      ]
    },
    {
      "cell_type": "markdown",
      "source": [
        "### Selección de datos\n",
        "\n",
        "Se pueden seleccionar los dos tipos de datos utilizados para la evaluación del modelo, ya sea con o sin las variables multiples o con el conjunto balanceado"
      ],
      "metadata": {
        "id": "gosaWGw5Eko9"
      }
    },
    {
      "cell_type": "markdown",
      "metadata": {
        "id": "IfTpzeFYZ2ET"
      },
      "source": [
        "Tensores de entrada"
      ]
    },
    {
      "cell_type": "code",
      "execution_count": 22,
      "metadata": {
        "colab": {
          "base_uri": "https://localhost:8080/"
        },
        "id": "JOADDcoEZq7P",
        "outputId": "ab4f918e-e8b7-4d0c-fc23-b7751863c148"
      },
      "outputs": [
        {
          "output_type": "stream",
          "name": "stdout",
          "text": [
            "tamaño de los targets:  (876,)\n",
            "tamaño de los features:  (3401, 199)\n"
          ]
        }
      ],
      "source": [
        "# Separa features y targets\n",
        "targets = y\n",
        "#\n",
        "features = np.array(X,dtype = 'float32')\n",
        "#\n",
        "print(\"tamaño de los targets: \",targets.shape)\n",
        "print(\"tamaño de los features: \",features.shape)\n",
        "\n"
      ]
    },
    {
      "cell_type": "markdown",
      "metadata": {
        "id": "ce9RkepSa0f5"
      },
      "source": [
        "Prepara datos de entrenamiento y de validación"
      ]
    },
    {
      "cell_type": "markdown",
      "source": [
        "Muestreo de conjunto de entrenamiento y validación haciendo uso del muestreo estratificado según las categorias de la variable respuesta"
      ],
      "metadata": {
        "id": "32g1KCaaHj8Q"
      }
    },
    {
      "cell_type": "code",
      "source": [
        "import pandas as pd\n",
        "from sklearn.model_selection import StratifiedShuffleSplit\n",
        "\n",
        "\n",
        "stratified_split = StratifiedShuffleSplit(n_splits=1, test_size=0.2, random_state=4418)\n",
        "\n",
        "train_indices, test_indices = next(stratified_split.split(X, y))\n",
        "\n",
        "train_features, val_features = X.iloc[train_indices], X.iloc[test_indices]\n",
        "train_targets, val_targets = y.iloc[train_indices], y.iloc[test_indices]\n"
      ],
      "metadata": {
        "id": "yZi4XMPoHjVn"
      },
      "execution_count": null,
      "outputs": []
    },
    {
      "cell_type": "markdown",
      "source": [
        "En caso de utilizar los datos balanceados se debe correr el siguiente codigo:"
      ],
      "metadata": {
        "id": "vaMCf0QuHQoa"
      }
    },
    {
      "cell_type": "code",
      "execution_count": 49,
      "metadata": {
        "colab": {
          "base_uri": "https://localhost:8080/"
        },
        "id": "tiJ2jcR2leIU",
        "outputId": "bfbbc790-4c82-4a6e-c793-39282e2856d0"
      },
      "outputs": [
        {
          "output_type": "stream",
          "name": "stdout",
          "text": [
            "Number of training samples: 876\n",
            "Number of validation samples: 2525\n"
          ]
        }
      ],
      "source": [
        "\n",
        "\n",
        "train_features = XBalanceados\n",
        "train_targets = y\n",
        "val_features = X_RESTO\n",
        "val_targets = y_RESTO\n",
        "\n",
        "\n",
        "print(\"Number of training samples:\", len(train_features))\n",
        "print(\"Number of validation samples:\", len(val_features))"
      ]
    },
    {
      "cell_type": "markdown",
      "source": [
        "Estandarización de los datos que van a entrar en el modelo"
      ],
      "metadata": {
        "id": "ZtBUjxKYGkZ1"
      }
    },
    {
      "cell_type": "code",
      "execution_count": 50,
      "metadata": {
        "id": "ZiX5c1kobBF1"
      },
      "outputs": [],
      "source": [
        "# crea el objeto StandardScaler\n",
        "scaler = StandardScaler()\n",
        "\n",
        "# Ajusta los parámetros del scaler\n",
        "scaler.fit(train_features)\n",
        "\n",
        "# escala training y test\n",
        "train_features = scaler.transform(train_features)\n",
        "val_features = scaler.transform(val_features)"
      ]
    },
    {
      "cell_type": "markdown",
      "metadata": {
        "id": "ZyTCwGa6bEtM"
      },
      "source": [
        "Analiza el desbalance en los targets\n",
        "\n"
      ]
    },
    {
      "cell_type": "code",
      "execution_count": 51,
      "metadata": {
        "colab": {
          "base_uri": "https://localhost:8080/"
        },
        "id": "il3hPOLCbDrQ",
        "outputId": "8b1a55a7-150f-42ef-9b9a-90361fd9117e"
      },
      "outputs": [
        {
          "output_type": "stream",
          "name": "stdout",
          "text": [
            "Number of positive samples in training data: 438 (50.00% of total)\n"
          ]
        }
      ],
      "source": [
        "# Cuenta las frecuencias de los datos\n",
        "counts = np.bincount(train_targets)\n",
        "print(\n",
        "    \"Number of positive samples in training data: {} ({:.2f}% of total)\".format(\n",
        "        counts[1], 100 * float(counts[1]) / len(train_targets)\n",
        "    )\n",
        ")\n",
        "\n",
        "# Crea los pesos para el entrenamiento. Más peso a los menos frecuentes (1)\n",
        "weight_for_0 =  1/counts[0]   #counts[0]/ (counts[0]+counts[1])# 1/counts[0]          #\n",
        "weight_for_1 = 1/counts[1]   #counts[1]/ (counts[0]+counts[1])  #"
      ]
    },
    {
      "cell_type": "code",
      "execution_count": 52,
      "metadata": {
        "colab": {
          "base_uri": "https://localhost:8080/"
        },
        "id": "oioJDfR3bJND",
        "outputId": "934ab449-6caf-43a0-fdb6-011aa4f5beb7"
      },
      "outputs": [
        {
          "output_type": "stream",
          "name": "stdout",
          "text": [
            "0.00228310502283105\n",
            "0.00228310502283105\n"
          ]
        }
      ],
      "source": [
        "print(weight_for_1)\n",
        "print(weight_for_0)\n"
      ]
    },
    {
      "cell_type": "markdown",
      "metadata": {
        "id": "i_TL84oGbRvM"
      },
      "source": [
        "###  Crear modelo"
      ]
    },
    {
      "cell_type": "code",
      "execution_count": 54,
      "metadata": {
        "id": "_qFKUDrnbQmB"
      },
      "outputs": [],
      "source": [
        "inputs = Input(shape=(train_features.shape[1],),name='capa_entrada')\n",
        "\n",
        "# vamos construyendo capa por capa\n",
        "\n",
        "x = Activation('relu')(inputs)\n",
        "x = Dense(512, activation='relu',name='primera_capa_oculta')(x)\n",
        "x = Dropout(0.2)(x)\n",
        "x = Dense(256, activation='relu',name='segunda_capa_oculta')(x)\n",
        "x = Dropout(0.2)(x)\n",
        "x = Dense(32, activation='relu',name='tercera_capa_oculta')(x)\n",
        "\n",
        "\n",
        "outputs = Dense(1, activation='sigmoid', name='capa_salida')(x)\n",
        "\n",
        "# Creamos ahora el modelo\n",
        "model = Model(inputs=inputs, outputs=outputs)"
      ]
    },
    {
      "cell_type": "markdown",
      "source": [],
      "metadata": {
        "id": "kHZXvNOg6HOC"
      }
    },
    {
      "cell_type": "code",
      "source": [
        "model.summary()"
      ],
      "metadata": {
        "colab": {
          "base_uri": "https://localhost:8080/"
        },
        "id": "6pI2SiDUze4d",
        "outputId": "623a6f66-8691-401a-9300-66ea3ba6eaba"
      },
      "execution_count": 55,
      "outputs": [
        {
          "output_type": "stream",
          "name": "stdout",
          "text": [
            "Model: \"model_2\"\n",
            "_________________________________________________________________\n",
            " Layer (type)                Output Shape              Param #   \n",
            "=================================================================\n",
            " capa_entrada (InputLayer)   [(None, 118)]             0         \n",
            "                                                                 \n",
            " activation_2 (Activation)   (None, 118)               0         \n",
            "                                                                 \n",
            " primera_capa_oculta (Dense)  (None, 512)              60928     \n",
            "                                                                 \n",
            " dropout_4 (Dropout)         (None, 512)               0         \n",
            "                                                                 \n",
            " segunda_capa_oculta (Dense)  (None, 256)              131328    \n",
            "                                                                 \n",
            " dropout_5 (Dropout)         (None, 256)               0         \n",
            "                                                                 \n",
            " tercera_capa_oculta (Dense)  (None, 32)               8224      \n",
            "                                                                 \n",
            " capa_salida (Dense)         (None, 1)                 33        \n",
            "                                                                 \n",
            "=================================================================\n",
            "Total params: 200,513\n",
            "Trainable params: 200,513\n",
            "Non-trainable params: 0\n",
            "_________________________________________________________________\n"
          ]
        }
      ]
    },
    {
      "cell_type": "code",
      "execution_count": 56,
      "metadata": {
        "colab": {
          "base_uri": "https://localhost:8080/",
          "height": 1000
        },
        "id": "ReiAg1s8bYmW",
        "outputId": "b2171621-7cc2-4c6a-f174-02971f8cb049"
      },
      "outputs": [
        {
          "output_type": "stream",
          "name": "stdout",
          "text": [
            "Model: \"model_2\"\n",
            "_________________________________________________________________\n",
            " Layer (type)                Output Shape              Param #   \n",
            "=================================================================\n",
            " capa_entrada (InputLayer)   [(None, 118)]             0         \n",
            "                                                                 \n",
            " activation_2 (Activation)   (None, 118)               0         \n",
            "                                                                 \n",
            " primera_capa_oculta (Dense)  (None, 512)              60928     \n",
            "                                                                 \n",
            " dropout_4 (Dropout)         (None, 512)               0         \n",
            "                                                                 \n",
            " segunda_capa_oculta (Dense)  (None, 256)              131328    \n",
            "                                                                 \n",
            " dropout_5 (Dropout)         (None, 256)               0         \n",
            "                                                                 \n",
            " tercera_capa_oculta (Dense)  (None, 32)               8224      \n",
            "                                                                 \n",
            " capa_salida (Dense)         (None, 1)                 33        \n",
            "                                                                 \n",
            "=================================================================\n",
            "Total params: 200,513\n",
            "Trainable params: 200,513\n",
            "Non-trainable params: 0\n",
            "_________________________________________________________________\n"
          ]
        },
        {
          "output_type": "execute_result",
          "data": {
            "image/png": "[encoded data removed]",
            "text/plain": [
              "<IPython.core.display.Image object>"
            ]
          },
          "metadata": {},
          "execution_count": 56
        }
      ],
      "source": [
        "model.summary()\n",
        "plot_model(model,show_shapes=True)"
      ]
    },
    {
      "cell_type": "markdown",
      "metadata": {
        "id": "jsZSlsDObg3U"
      },
      "source": [
        "### metricas"
      ]
    },
    {
      "cell_type": "code",
      "execution_count": 57,
      "metadata": {
        "id": "fVih_ztbbeMA"
      },
      "outputs": [],
      "source": [
        "# métricas\n",
        "metrics = [\n",
        "    FalseNegatives(name=\"fn\"),\n",
        "    FalsePositives(name=\"fp\"),\n",
        "    TrueNegatives(name=\"tn\"),\n",
        "    TruePositives(name=\"tp\"),\n",
        "    Precision(name=\"precision\"),\n",
        "    Recall(name=\"recall\"),\n",
        "]\n",
        "\n",
        "model.compile(optimizer=Adam(1e-2), loss=\"binary_crossentropy\", metrics=metrics)"
      ]
    },
    {
      "cell_type": "code",
      "execution_count": 58,
      "metadata": {
        "colab": {
          "base_uri": "https://localhost:8080/"
        },
        "id": "7OtBbRX-bwOB",
        "outputId": "b4fa119e-6b95-4067-af95-3e5e8309ec00"
      },
      "outputs": [
        {
          "output_type": "stream",
          "name": "stdout",
          "text": [
            "Epoch 1/100\n",
            "18/18 - 2s - loss: 0.0019 - fn: 248.0000 - fp: 197.0000 - tn: 241.0000 - tp: 190.0000 - precision: 0.4910 - recall: 0.4338 - val_loss: 0.5806 - val_fn: 109.0000 - val_fp: 0.0000e+00 - val_tn: 2416.0000 - val_tp: 0.0000e+00 - val_precision: 0.0000e+00 - val_recall: 0.0000e+00 - 2s/epoch - 113ms/step\n",
            "Epoch 2/100\n",
            "18/18 - 0s - loss: 0.0016 - fn: 208.0000 - fp: 245.0000 - tn: 193.0000 - tp: 230.0000 - precision: 0.4842 - recall: 0.5251 - val_loss: 0.6916 - val_fn: 60.0000 - val_fp: 944.0000 - val_tn: 1472.0000 - val_tp: 49.0000 - val_precision: 0.0493 - val_recall: 0.4495 - 291ms/epoch - 16ms/step\n",
            "Epoch 3/100\n",
            "18/18 - 0s - loss: 0.0016 - fn: 208.0000 - fp: 207.0000 - tn: 231.0000 - tp: 230.0000 - precision: 0.5263 - recall: 0.5251 - val_loss: 0.8000 - val_fn: 27.0000 - val_fp: 1822.0000 - val_tn: 594.0000 - val_tp: 82.0000 - val_precision: 0.0431 - val_recall: 0.7523 - 308ms/epoch - 17ms/step\n",
            "Epoch 4/100\n",
            "18/18 - 0s - loss: 0.0015 - fn: 132.0000 - fp: 193.0000 - tn: 245.0000 - tp: 306.0000 - precision: 0.6132 - recall: 0.6986 - val_loss: 0.5664 - val_fn: 93.0000 - val_fp: 663.0000 - val_tn: 1753.0000 - val_tp: 16.0000 - val_precision: 0.0236 - val_recall: 0.1468 - 302ms/epoch - 17ms/step\n",
            "Epoch 5/100\n",
            "18/18 - 0s - loss: 0.0014 - fn: 101.0000 - fp: 187.0000 - tn: 251.0000 - tp: 337.0000 - precision: 0.6431 - recall: 0.7694 - val_loss: 0.5368 - val_fn: 80.0000 - val_fp: 760.0000 - val_tn: 1656.0000 - val_tp: 29.0000 - val_precision: 0.0368 - val_recall: 0.2661 - 289ms/epoch - 16ms/step\n",
            "Epoch 6/100\n",
            "18/18 - 0s - loss: 0.0013 - fn: 96.0000 - fp: 168.0000 - tn: 270.0000 - tp: 342.0000 - precision: 0.6706 - recall: 0.7808 - val_loss: 0.7035 - val_fn: 48.0000 - val_fp: 1239.0000 - val_tn: 1177.0000 - val_tp: 61.0000 - val_precision: 0.0469 - val_recall: 0.5596 - 301ms/epoch - 17ms/step\n",
            "Epoch 7/100\n",
            "18/18 - 0s - loss: 0.0011 - fn: 70.0000 - fp: 133.0000 - tn: 305.0000 - tp: 368.0000 - precision: 0.7345 - recall: 0.8402 - val_loss: 0.7648 - val_fn: 54.0000 - val_fp: 1242.0000 - val_tn: 1174.0000 - val_tp: 55.0000 - val_precision: 0.0424 - val_recall: 0.5046 - 280ms/epoch - 16ms/step\n",
            "Epoch 8/100\n",
            "18/18 - 0s - loss: 8.5718e-04 - fn: 45.0000 - fp: 97.0000 - tn: 341.0000 - tp: 393.0000 - precision: 0.8020 - recall: 0.8973 - val_loss: 1.0870 - val_fn: 35.0000 - val_fp: 1516.0000 - val_tn: 900.0000 - val_tp: 74.0000 - val_precision: 0.0465 - val_recall: 0.6789 - 290ms/epoch - 16ms/step\n",
            "Epoch 9/100\n",
            "18/18 - 0s - loss: 7.4556e-04 - fn: 45.0000 - fp: 78.0000 - tn: 360.0000 - tp: 393.0000 - precision: 0.8344 - recall: 0.8973 - val_loss: 1.2345 - val_fn: 51.0000 - val_fp: 1309.0000 - val_tn: 1107.0000 - val_tp: 58.0000 - val_precision: 0.0424 - val_recall: 0.5321 - 270ms/epoch - 15ms/step\n",
            "Epoch 10/100\n",
            "18/18 - 0s - loss: 6.3343e-04 - fn: 42.0000 - fp: 59.0000 - tn: 379.0000 - tp: 396.0000 - precision: 0.8703 - recall: 0.9041 - val_loss: 1.0843 - val_fn: 48.0000 - val_fp: 1284.0000 - val_tn: 1132.0000 - val_tp: 61.0000 - val_precision: 0.0454 - val_recall: 0.5596 - 307ms/epoch - 17ms/step\n",
            "Epoch 11/100\n",
            "18/18 - 0s - loss: 5.7976e-04 - fn: 39.0000 - fp: 53.0000 - tn: 385.0000 - tp: 399.0000 - precision: 0.8827 - recall: 0.9110 - val_loss: 0.7274 - val_fn: 75.0000 - val_fp: 775.0000 - val_tn: 1641.0000 - val_tp: 34.0000 - val_precision: 0.0420 - val_recall: 0.3119 - 272ms/epoch - 15ms/step\n",
            "Epoch 12/100\n",
            "18/18 - 0s - loss: 4.1768e-04 - fn: 19.0000 - fp: 35.0000 - tn: 403.0000 - tp: 419.0000 - precision: 0.9229 - recall: 0.9566 - val_loss: 0.8195 - val_fn: 86.0000 - val_fp: 687.0000 - val_tn: 1729.0000 - val_tp: 23.0000 - val_precision: 0.0324 - val_recall: 0.2110 - 280ms/epoch - 16ms/step\n",
            "Epoch 13/100\n",
            "18/18 - 0s - loss: 3.8364e-04 - fn: 23.0000 - fp: 37.0000 - tn: 401.0000 - tp: 415.0000 - precision: 0.9181 - recall: 0.9475 - val_loss: 1.0906 - val_fn: 68.0000 - val_fp: 970.0000 - val_tn: 1446.0000 - val_tp: 41.0000 - val_precision: 0.0406 - val_recall: 0.3761 - 299ms/epoch - 17ms/step\n",
            "Epoch 14/100\n",
            "18/18 - 0s - loss: 2.5457e-04 - fn: 15.0000 - fp: 17.0000 - tn: 421.0000 - tp: 423.0000 - precision: 0.9614 - recall: 0.9658 - val_loss: 1.8476 - val_fn: 56.0000 - val_fp: 1200.0000 - val_tn: 1216.0000 - val_tp: 53.0000 - val_precision: 0.0423 - val_recall: 0.4862 - 299ms/epoch - 17ms/step\n",
            "Epoch 15/100\n",
            "18/18 - 0s - loss: 2.5055e-04 - fn: 15.0000 - fp: 18.0000 - tn: 420.0000 - tp: 423.0000 - precision: 0.9592 - recall: 0.9658 - val_loss: 1.1242 - val_fn: 80.0000 - val_fp: 813.0000 - val_tn: 1603.0000 - val_tp: 29.0000 - val_precision: 0.0344 - val_recall: 0.2661 - 287ms/epoch - 16ms/step\n",
            "Epoch 16/100\n",
            "18/18 - 0s - loss: 2.2098e-04 - fn: 15.0000 - fp: 12.0000 - tn: 426.0000 - tp: 423.0000 - precision: 0.9724 - recall: 0.9658 - val_loss: 1.7490 - val_fn: 58.0000 - val_fp: 1127.0000 - val_tn: 1289.0000 - val_tp: 51.0000 - val_precision: 0.0433 - val_recall: 0.4679 - 297ms/epoch - 16ms/step\n",
            "Epoch 17/100\n",
            "18/18 - 0s - loss: 1.9754e-04 - fn: 12.0000 - fp: 13.0000 - tn: 425.0000 - tp: 426.0000 - precision: 0.9704 - recall: 0.9726 - val_loss: 1.5031 - val_fn: 75.0000 - val_fp: 953.0000 - val_tn: 1463.0000 - val_tp: 34.0000 - val_precision: 0.0344 - val_recall: 0.3119 - 286ms/epoch - 16ms/step\n",
            "Epoch 18/100\n",
            "18/18 - 0s - loss: 1.4351e-04 - fn: 9.0000 - fp: 11.0000 - tn: 427.0000 - tp: 429.0000 - precision: 0.9750 - recall: 0.9795 - val_loss: 1.8100 - val_fn: 65.0000 - val_fp: 1063.0000 - val_tn: 1353.0000 - val_tp: 44.0000 - val_precision: 0.0397 - val_recall: 0.4037 - 279ms/epoch - 15ms/step\n",
            "Epoch 19/100\n",
            "18/18 - 0s - loss: 2.1356e-04 - fn: 13.0000 - fp: 14.0000 - tn: 424.0000 - tp: 425.0000 - precision: 0.9681 - recall: 0.9703 - val_loss: 1.6886 - val_fn: 68.0000 - val_fp: 1020.0000 - val_tn: 1396.0000 - val_tp: 41.0000 - val_precision: 0.0386 - val_recall: 0.3761 - 462ms/epoch - 26ms/step\n",
            "Epoch 20/100\n",
            "18/18 - 1s - loss: 1.9843e-04 - fn: 15.0000 - fp: 12.0000 - tn: 426.0000 - tp: 423.0000 - precision: 0.9724 - recall: 0.9658 - val_loss: 1.3691 - val_fn: 65.0000 - val_fp: 951.0000 - val_tn: 1465.0000 - val_tp: 44.0000 - val_precision: 0.0442 - val_recall: 0.4037 - 549ms/epoch - 31ms/step\n",
            "Epoch 21/100\n",
            "18/18 - 1s - loss: 1.8549e-04 - fn: 9.0000 - fp: 13.0000 - tn: 425.0000 - tp: 429.0000 - precision: 0.9706 - recall: 0.9795 - val_loss: 1.6166 - val_fn: 64.0000 - val_fp: 970.0000 - val_tn: 1446.0000 - val_tp: 45.0000 - val_precision: 0.0443 - val_recall: 0.4128 - 536ms/epoch - 30ms/step\n",
            "Epoch 22/100\n",
            "18/18 - 1s - loss: 1.5691e-04 - fn: 11.0000 - fp: 13.0000 - tn: 425.0000 - tp: 427.0000 - precision: 0.9705 - recall: 0.9749 - val_loss: 1.9251 - val_fn: 62.0000 - val_fp: 1115.0000 - val_tn: 1301.0000 - val_tp: 47.0000 - val_precision: 0.0404 - val_recall: 0.4312 - 535ms/epoch - 30ms/step\n",
            "Epoch 23/100\n",
            "18/18 - 1s - loss: 1.0218e-04 - fn: 9.0000 - fp: 8.0000 - tn: 430.0000 - tp: 429.0000 - precision: 0.9817 - recall: 0.9795 - val_loss: 1.9078 - val_fn: 64.0000 - val_fp: 1019.0000 - val_tn: 1397.0000 - val_tp: 45.0000 - val_precision: 0.0423 - val_recall: 0.4128 - 553ms/epoch - 31ms/step\n",
            "Epoch 24/100\n",
            "18/18 - 0s - loss: 9.5256e-05 - fn: 5.0000 - fp: 9.0000 - tn: 429.0000 - tp: 433.0000 - precision: 0.9796 - recall: 0.9886 - val_loss: 1.9545 - val_fn: 61.0000 - val_fp: 1050.0000 - val_tn: 1366.0000 - val_tp: 48.0000 - val_precision: 0.0437 - val_recall: 0.4404 - 285ms/epoch - 16ms/step\n",
            "Epoch 25/100\n",
            "18/18 - 0s - loss: 7.2289e-05 - fn: 2.0000 - fp: 5.0000 - tn: 433.0000 - tp: 436.0000 - precision: 0.9887 - recall: 0.9954 - val_loss: 2.2797 - val_fn: 54.0000 - val_fp: 1117.0000 - val_tn: 1299.0000 - val_tp: 55.0000 - val_precision: 0.0469 - val_recall: 0.5046 - 303ms/epoch - 17ms/step\n",
            "Epoch 26/100\n",
            "18/18 - 0s - loss: 7.8277e-05 - fn: 6.0000 - fp: 8.0000 - tn: 430.0000 - tp: 432.0000 - precision: 0.9818 - recall: 0.9863 - val_loss: 2.4583 - val_fn: 53.0000 - val_fp: 1105.0000 - val_tn: 1311.0000 - val_tp: 56.0000 - val_precision: 0.0482 - val_recall: 0.5138 - 287ms/epoch - 16ms/step\n",
            "Epoch 27/100\n",
            "18/18 - 0s - loss: 5.2952e-05 - fn: 4.0000 - fp: 3.0000 - tn: 435.0000 - tp: 434.0000 - precision: 0.9931 - recall: 0.9909 - val_loss: 2.1009 - val_fn: 61.0000 - val_fp: 998.0000 - val_tn: 1418.0000 - val_tp: 48.0000 - val_precision: 0.0459 - val_recall: 0.4404 - 304ms/epoch - 17ms/step\n",
            "Epoch 28/100\n",
            "18/18 - 0s - loss: 9.2287e-05 - fn: 5.0000 - fp: 6.0000 - tn: 432.0000 - tp: 433.0000 - precision: 0.9863 - recall: 0.9886 - val_loss: 2.4265 - val_fn: 59.0000 - val_fp: 1056.0000 - val_tn: 1360.0000 - val_tp: 50.0000 - val_precision: 0.0452 - val_recall: 0.4587 - 297ms/epoch - 17ms/step\n",
            "Epoch 29/100\n",
            "18/18 - 0s - loss: 7.0542e-05 - fn: 6.0000 - fp: 6.0000 - tn: 432.0000 - tp: 432.0000 - precision: 0.9863 - recall: 0.9863 - val_loss: 2.3883 - val_fn: 65.0000 - val_fp: 1045.0000 - val_tn: 1371.0000 - val_tp: 44.0000 - val_precision: 0.0404 - val_recall: 0.4037 - 268ms/epoch - 15ms/step\n",
            "Epoch 30/100\n",
            "18/18 - 0s - loss: 9.9791e-05 - fn: 7.0000 - fp: 5.0000 - tn: 433.0000 - tp: 431.0000 - precision: 0.9885 - recall: 0.9840 - val_loss: 2.1913 - val_fn: 69.0000 - val_fp: 961.0000 - val_tn: 1455.0000 - val_tp: 40.0000 - val_precision: 0.0400 - val_recall: 0.3670 - 290ms/epoch - 16ms/step\n",
            "Epoch 31/100\n",
            "18/18 - 0s - loss: 4.9875e-05 - fn: 4.0000 - fp: 5.0000 - tn: 433.0000 - tp: 434.0000 - precision: 0.9886 - recall: 0.9909 - val_loss: 2.3717 - val_fn: 63.0000 - val_fp: 1001.0000 - val_tn: 1415.0000 - val_tp: 46.0000 - val_precision: 0.0439 - val_recall: 0.4220 - 280ms/epoch - 16ms/step\n",
            "Epoch 32/100\n",
            "18/18 - 0s - loss: 1.0276e-04 - fn: 9.0000 - fp: 6.0000 - tn: 432.0000 - tp: 429.0000 - precision: 0.9862 - recall: 0.9795 - val_loss: 2.0430 - val_fn: 63.0000 - val_fp: 890.0000 - val_tn: 1526.0000 - val_tp: 46.0000 - val_precision: 0.0491 - val_recall: 0.4220 - 292ms/epoch - 16ms/step\n",
            "Epoch 33/100\n",
            "18/18 - 0s - loss: 1.3400e-04 - fn: 7.0000 - fp: 9.0000 - tn: 429.0000 - tp: 431.0000 - precision: 0.9795 - recall: 0.9840 - val_loss: 1.8443 - val_fn: 71.0000 - val_fp: 967.0000 - val_tn: 1449.0000 - val_tp: 38.0000 - val_precision: 0.0378 - val_recall: 0.3486 - 305ms/epoch - 17ms/step\n",
            "Epoch 34/100\n",
            "18/18 - 0s - loss: 1.3024e-04 - fn: 6.0000 - fp: 13.0000 - tn: 425.0000 - tp: 432.0000 - precision: 0.9708 - recall: 0.9863 - val_loss: 1.4728 - val_fn: 81.0000 - val_fp: 795.0000 - val_tn: 1621.0000 - val_tp: 28.0000 - val_precision: 0.0340 - val_recall: 0.2569 - 292ms/epoch - 16ms/step\n",
            "Epoch 35/100\n",
            "18/18 - 0s - loss: 1.0092e-04 - fn: 7.0000 - fp: 8.0000 - tn: 430.0000 - tp: 431.0000 - precision: 0.9818 - recall: 0.9840 - val_loss: 2.2214 - val_fn: 73.0000 - val_fp: 922.0000 - val_tn: 1494.0000 - val_tp: 36.0000 - val_precision: 0.0376 - val_recall: 0.3303 - 296ms/epoch - 16ms/step\n",
            "Epoch 36/100\n",
            "18/18 - 0s - loss: 7.2601e-05 - fn: 4.0000 - fp: 5.0000 - tn: 433.0000 - tp: 434.0000 - precision: 0.9886 - recall: 0.9909 - val_loss: 1.9274 - val_fn: 76.0000 - val_fp: 951.0000 - val_tn: 1465.0000 - val_tp: 33.0000 - val_precision: 0.0335 - val_recall: 0.3028 - 302ms/epoch - 17ms/step\n",
            "Epoch 37/100\n",
            "18/18 - 0s - loss: 4.4449e-05 - fn: 2.0000 - fp: 2.0000 - tn: 436.0000 - tp: 436.0000 - precision: 0.9954 - recall: 0.9954 - val_loss: 2.7214 - val_fn: 67.0000 - val_fp: 1117.0000 - val_tn: 1299.0000 - val_tp: 42.0000 - val_precision: 0.0362 - val_recall: 0.3853 - 304ms/epoch - 17ms/step\n",
            "Epoch 38/100\n",
            "18/18 - 0s - loss: 6.7619e-05 - fn: 3.0000 - fp: 4.0000 - tn: 434.0000 - tp: 435.0000 - precision: 0.9909 - recall: 0.9932 - val_loss: 2.2638 - val_fn: 73.0000 - val_fp: 1055.0000 - val_tn: 1361.0000 - val_tp: 36.0000 - val_precision: 0.0330 - val_recall: 0.3303 - 270ms/epoch - 15ms/step\n",
            "Epoch 39/100\n",
            "18/18 - 0s - loss: 4.2272e-05 - fn: 2.0000 - fp: 5.0000 - tn: 433.0000 - tp: 436.0000 - precision: 0.9887 - recall: 0.9954 - val_loss: 2.0857 - val_fn: 77.0000 - val_fp: 988.0000 - val_tn: 1428.0000 - val_tp: 32.0000 - val_precision: 0.0314 - val_recall: 0.2936 - 290ms/epoch - 16ms/step\n",
            "Epoch 40/100\n",
            "18/18 - 0s - loss: 5.3461e-05 - fn: 6.0000 - fp: 3.0000 - tn: 435.0000 - tp: 432.0000 - precision: 0.9931 - recall: 0.9863 - val_loss: 2.5714 - val_fn: 66.0000 - val_fp: 1068.0000 - val_tn: 1348.0000 - val_tp: 43.0000 - val_precision: 0.0387 - val_recall: 0.3945 - 289ms/epoch - 16ms/step\n",
            "Epoch 41/100\n",
            "18/18 - 0s - loss: 5.7015e-05 - fn: 2.0000 - fp: 5.0000 - tn: 433.0000 - tp: 436.0000 - precision: 0.9887 - recall: 0.9954 - val_loss: 2.0591 - val_fn: 78.0000 - val_fp: 868.0000 - val_tn: 1548.0000 - val_tp: 31.0000 - val_precision: 0.0345 - val_recall: 0.2844 - 303ms/epoch - 17ms/step\n",
            "Epoch 42/100\n",
            "18/18 - 0s - loss: 7.2854e-05 - fn: 5.0000 - fp: 3.0000 - tn: 435.0000 - tp: 433.0000 - precision: 0.9931 - recall: 0.9886 - val_loss: 1.8942 - val_fn: 74.0000 - val_fp: 924.0000 - val_tn: 1492.0000 - val_tp: 35.0000 - val_precision: 0.0365 - val_recall: 0.3211 - 298ms/epoch - 17ms/step\n",
            "Epoch 43/100\n",
            "18/18 - 0s - loss: 4.8161e-05 - fn: 3.0000 - fp: 5.0000 - tn: 433.0000 - tp: 435.0000 - precision: 0.9886 - recall: 0.9932 - val_loss: 1.9060 - val_fn: 78.0000 - val_fp: 880.0000 - val_tn: 1536.0000 - val_tp: 31.0000 - val_precision: 0.0340 - val_recall: 0.2844 - 295ms/epoch - 16ms/step\n",
            "Epoch 44/100\n",
            "18/18 - 0s - loss: 2.8767e-05 - fn: 1.0000 - fp: 2.0000 - tn: 436.0000 - tp: 437.0000 - precision: 0.9954 - recall: 0.9977 - val_loss: 2.1578 - val_fn: 76.0000 - val_fp: 934.0000 - val_tn: 1482.0000 - val_tp: 33.0000 - val_precision: 0.0341 - val_recall: 0.3028 - 292ms/epoch - 16ms/step\n",
            "Epoch 45/100\n",
            "18/18 - 0s - loss: 1.0085e-04 - fn: 6.0000 - fp: 6.0000 - tn: 432.0000 - tp: 432.0000 - precision: 0.9863 - recall: 0.9863 - val_loss: 1.8514 - val_fn: 80.0000 - val_fp: 855.0000 - val_tn: 1561.0000 - val_tp: 29.0000 - val_precision: 0.0328 - val_recall: 0.2661 - 266ms/epoch - 15ms/step\n",
            "Epoch 46/100\n",
            "18/18 - 0s - loss: 9.7349e-05 - fn: 8.0000 - fp: 5.0000 - tn: 433.0000 - tp: 430.0000 - precision: 0.9885 - recall: 0.9817 - val_loss: 2.5214 - val_fn: 58.0000 - val_fp: 1181.0000 - val_tn: 1235.0000 - val_tp: 51.0000 - val_precision: 0.0414 - val_recall: 0.4679 - 297ms/epoch - 17ms/step\n",
            "Epoch 47/100\n",
            "18/18 - 0s - loss: 7.9919e-05 - fn: 7.0000 - fp: 5.0000 - tn: 433.0000 - tp: 431.0000 - precision: 0.9885 - recall: 0.9840 - val_loss: 2.2331 - val_fn: 72.0000 - val_fp: 1056.0000 - val_tn: 1360.0000 - val_tp: 37.0000 - val_precision: 0.0339 - val_recall: 0.3394 - 295ms/epoch - 16ms/step\n",
            "Epoch 48/100\n",
            "18/18 - 0s - loss: 6.1975e-05 - fn: 2.0000 - fp: 4.0000 - tn: 434.0000 - tp: 436.0000 - precision: 0.9909 - recall: 0.9954 - val_loss: 2.3906 - val_fn: 67.0000 - val_fp: 1073.0000 - val_tn: 1343.0000 - val_tp: 42.0000 - val_precision: 0.0377 - val_recall: 0.3853 - 277ms/epoch - 15ms/step\n",
            "Epoch 49/100\n",
            "18/18 - 0s - loss: 4.0373e-05 - fn: 3.0000 - fp: 4.0000 - tn: 434.0000 - tp: 435.0000 - precision: 0.9909 - recall: 0.9932 - val_loss: 2.7189 - val_fn: 62.0000 - val_fp: 1123.0000 - val_tn: 1293.0000 - val_tp: 47.0000 - val_precision: 0.0402 - val_recall: 0.4312 - 301ms/epoch - 17ms/step\n",
            "Epoch 50/100\n",
            "18/18 - 0s - loss: 4.1253e-05 - fn: 3.0000 - fp: 6.0000 - tn: 432.0000 - tp: 435.0000 - precision: 0.9864 - recall: 0.9932 - val_loss: 2.8790 - val_fn: 62.0000 - val_fp: 1059.0000 - val_tn: 1357.0000 - val_tp: 47.0000 - val_precision: 0.0425 - val_recall: 0.4312 - 292ms/epoch - 16ms/step\n",
            "Epoch 51/100\n",
            "18/18 - 0s - loss: 5.3365e-05 - fn: 3.0000 - fp: 4.0000 - tn: 434.0000 - tp: 435.0000 - precision: 0.9909 - recall: 0.9932 - val_loss: 2.6119 - val_fn: 67.0000 - val_fp: 1058.0000 - val_tn: 1358.0000 - val_tp: 42.0000 - val_precision: 0.0382 - val_recall: 0.3853 - 271ms/epoch - 15ms/step\n",
            "Epoch 52/100\n",
            "18/18 - 0s - loss: 9.6778e-05 - fn: 4.0000 - fp: 5.0000 - tn: 433.0000 - tp: 434.0000 - precision: 0.9886 - recall: 0.9909 - val_loss: 1.8359 - val_fn: 65.0000 - val_fp: 916.0000 - val_tn: 1500.0000 - val_tp: 44.0000 - val_precision: 0.0458 - val_recall: 0.4037 - 266ms/epoch - 15ms/step\n",
            "Epoch 53/100\n",
            "18/18 - 0s - loss: 4.2823e-05 - fn: 4.0000 - fp: 5.0000 - tn: 433.0000 - tp: 434.0000 - precision: 0.9886 - recall: 0.9909 - val_loss: 1.9682 - val_fn: 66.0000 - val_fp: 907.0000 - val_tn: 1509.0000 - val_tp: 43.0000 - val_precision: 0.0453 - val_recall: 0.3945 - 269ms/epoch - 15ms/step\n",
            "Epoch 54/100\n",
            "18/18 - 0s - loss: 9.6569e-05 - fn: 6.0000 - fp: 6.0000 - tn: 432.0000 - tp: 432.0000 - precision: 0.9863 - recall: 0.9863 - val_loss: 2.7193 - val_fn: 49.0000 - val_fp: 1233.0000 - val_tn: 1183.0000 - val_tp: 60.0000 - val_precision: 0.0464 - val_recall: 0.5505 - 291ms/epoch - 16ms/step\n",
            "Epoch 55/100\n",
            "18/18 - 0s - loss: 6.6714e-05 - fn: 6.0000 - fp: 2.0000 - tn: 436.0000 - tp: 432.0000 - precision: 0.9954 - recall: 0.9863 - val_loss: 2.3866 - val_fn: 56.0000 - val_fp: 1198.0000 - val_tn: 1218.0000 - val_tp: 53.0000 - val_precision: 0.0424 - val_recall: 0.4862 - 312ms/epoch - 17ms/step\n",
            "Epoch 56/100\n",
            "18/18 - 0s - loss: 5.7691e-05 - fn: 2.0000 - fp: 5.0000 - tn: 433.0000 - tp: 436.0000 - precision: 0.9887 - recall: 0.9954 - val_loss: 2.9285 - val_fn: 56.0000 - val_fp: 1256.0000 - val_tn: 1160.0000 - val_tp: 53.0000 - val_precision: 0.0405 - val_recall: 0.4862 - 297ms/epoch - 16ms/step\n",
            "Epoch 57/100\n",
            "18/18 - 1s - loss: 1.0552e-04 - fn: 6.0000 - fp: 8.0000 - tn: 430.0000 - tp: 432.0000 - precision: 0.9818 - recall: 0.9863 - val_loss: 1.7560 - val_fn: 76.0000 - val_fp: 869.0000 - val_tn: 1547.0000 - val_tp: 33.0000 - val_precision: 0.0366 - val_recall: 0.3028 - 532ms/epoch - 30ms/step\n",
            "Epoch 58/100\n",
            "18/18 - 1s - loss: 1.0587e-04 - fn: 6.0000 - fp: 7.0000 - tn: 431.0000 - tp: 432.0000 - precision: 0.9841 - recall: 0.9863 - val_loss: 1.9277 - val_fn: 71.0000 - val_fp: 994.0000 - val_tn: 1422.0000 - val_tp: 38.0000 - val_precision: 0.0368 - val_recall: 0.3486 - 561ms/epoch - 31ms/step\n",
            "Epoch 59/100\n",
            "18/18 - 1s - loss: 3.2608e-05 - fn: 2.0000 - fp: 1.0000 - tn: 437.0000 - tp: 436.0000 - precision: 0.9977 - recall: 0.9954 - val_loss: 2.5904 - val_fn: 70.0000 - val_fp: 1033.0000 - val_tn: 1383.0000 - val_tp: 39.0000 - val_precision: 0.0364 - val_recall: 0.3578 - 567ms/epoch - 31ms/step\n",
            "Epoch 60/100\n",
            "18/18 - 0s - loss: 6.4457e-05 - fn: 5.0000 - fp: 3.0000 - tn: 435.0000 - tp: 433.0000 - precision: 0.9931 - recall: 0.9886 - val_loss: 3.2435 - val_fn: 55.0000 - val_fp: 1268.0000 - val_tn: 1148.0000 - val_tp: 54.0000 - val_precision: 0.0408 - val_recall: 0.4954 - 412ms/epoch - 23ms/step\n",
            "Epoch 61/100\n",
            "18/18 - 0s - loss: 5.5550e-05 - fn: 1.0000 - fp: 3.0000 - tn: 435.0000 - tp: 437.0000 - precision: 0.9932 - recall: 0.9977 - val_loss: 1.6424 - val_fn: 85.0000 - val_fp: 716.0000 - val_tn: 1700.0000 - val_tp: 24.0000 - val_precision: 0.0324 - val_recall: 0.2202 - 427ms/epoch - 24ms/step\n",
            "Epoch 62/100\n",
            "18/18 - 0s - loss: 3.0942e-05 - fn: 2.0000 - fp: 3.0000 - tn: 435.0000 - tp: 436.0000 - precision: 0.9932 - recall: 0.9954 - val_loss: 2.6574 - val_fn: 69.0000 - val_fp: 994.0000 - val_tn: 1422.0000 - val_tp: 40.0000 - val_precision: 0.0387 - val_recall: 0.3670 - 300ms/epoch - 17ms/step\n",
            "Epoch 63/100\n",
            "18/18 - 0s - loss: 1.8660e-05 - fn: 2.0000 - fp: 1.0000 - tn: 437.0000 - tp: 436.0000 - precision: 0.9977 - recall: 0.9954 - val_loss: 3.0293 - val_fn: 70.0000 - val_fp: 978.0000 - val_tn: 1438.0000 - val_tp: 39.0000 - val_precision: 0.0383 - val_recall: 0.3578 - 275ms/epoch - 15ms/step\n",
            "Epoch 64/100\n",
            "18/18 - 0s - loss: 2.3497e-05 - fn: 0.0000e+00 - fp: 3.0000 - tn: 435.0000 - tp: 438.0000 - precision: 0.9932 - recall: 1.0000 - val_loss: 2.1600 - val_fn: 81.0000 - val_fp: 776.0000 - val_tn: 1640.0000 - val_tp: 28.0000 - val_precision: 0.0348 - val_recall: 0.2569 - 303ms/epoch - 17ms/step\n",
            "Epoch 65/100\n",
            "18/18 - 0s - loss: 7.5966e-05 - fn: 5.0000 - fp: 5.0000 - tn: 433.0000 - tp: 433.0000 - precision: 0.9886 - recall: 0.9886 - val_loss: 1.9436 - val_fn: 64.0000 - val_fp: 947.0000 - val_tn: 1469.0000 - val_tp: 45.0000 - val_precision: 0.0454 - val_recall: 0.4128 - 283ms/epoch - 16ms/step\n",
            "Epoch 66/100\n",
            "18/18 - 0s - loss: 6.1695e-05 - fn: 4.0000 - fp: 4.0000 - tn: 434.0000 - tp: 434.0000 - precision: 0.9909 - recall: 0.9909 - val_loss: 2.0988 - val_fn: 67.0000 - val_fp: 971.0000 - val_tn: 1445.0000 - val_tp: 42.0000 - val_precision: 0.0415 - val_recall: 0.3853 - 271ms/epoch - 15ms/step\n",
            "Epoch 67/100\n",
            "18/18 - 0s - loss: 6.3599e-05 - fn: 3.0000 - fp: 4.0000 - tn: 434.0000 - tp: 435.0000 - precision: 0.9909 - recall: 0.9932 - val_loss: 2.5576 - val_fn: 69.0000 - val_fp: 991.0000 - val_tn: 1425.0000 - val_tp: 40.0000 - val_precision: 0.0388 - val_recall: 0.3670 - 286ms/epoch - 16ms/step\n",
            "Epoch 68/100\n",
            "18/18 - 0s - loss: 6.1368e-05 - fn: 4.0000 - fp: 3.0000 - tn: 435.0000 - tp: 434.0000 - precision: 0.9931 - recall: 0.9909 - val_loss: 3.0438 - val_fn: 54.0000 - val_fp: 1157.0000 - val_tn: 1259.0000 - val_tp: 55.0000 - val_precision: 0.0454 - val_recall: 0.5046 - 308ms/epoch - 17ms/step\n",
            "Epoch 69/100\n",
            "18/18 - 0s - loss: 4.4830e-05 - fn: 2.0000 - fp: 2.0000 - tn: 436.0000 - tp: 436.0000 - precision: 0.9954 - recall: 0.9954 - val_loss: 2.2663 - val_fn: 67.0000 - val_fp: 1034.0000 - val_tn: 1382.0000 - val_tp: 42.0000 - val_precision: 0.0390 - val_recall: 0.3853 - 277ms/epoch - 15ms/step\n",
            "Epoch 70/100\n",
            "18/18 - 0s - loss: 5.9418e-05 - fn: 3.0000 - fp: 5.0000 - tn: 433.0000 - tp: 435.0000 - precision: 0.9886 - recall: 0.9932 - val_loss: 2.3787 - val_fn: 66.0000 - val_fp: 996.0000 - val_tn: 1420.0000 - val_tp: 43.0000 - val_precision: 0.0414 - val_recall: 0.3945 - 303ms/epoch - 17ms/step\n",
            "Epoch 71/100\n",
            "18/18 - 0s - loss: 3.9929e-05 - fn: 4.0000 - fp: 2.0000 - tn: 436.0000 - tp: 434.0000 - precision: 0.9954 - recall: 0.9909 - val_loss: 2.3717 - val_fn: 60.0000 - val_fp: 1003.0000 - val_tn: 1413.0000 - val_tp: 49.0000 - val_precision: 0.0466 - val_recall: 0.4495 - 290ms/epoch - 16ms/step\n",
            "Epoch 72/100\n",
            "18/18 - 0s - loss: 6.9470e-05 - fn: 4.0000 - fp: 5.0000 - tn: 433.0000 - tp: 434.0000 - precision: 0.9886 - recall: 0.9909 - val_loss: 1.6286 - val_fn: 67.0000 - val_fp: 795.0000 - val_tn: 1621.0000 - val_tp: 42.0000 - val_precision: 0.0502 - val_recall: 0.3853 - 305ms/epoch - 17ms/step\n",
            "Epoch 73/100\n",
            "18/18 - 0s - loss: 1.0023e-04 - fn: 7.0000 - fp: 5.0000 - tn: 433.0000 - tp: 431.0000 - precision: 0.9885 - recall: 0.9840 - val_loss: 1.9898 - val_fn: 62.0000 - val_fp: 1010.0000 - val_tn: 1406.0000 - val_tp: 47.0000 - val_precision: 0.0445 - val_recall: 0.4312 - 286ms/epoch - 16ms/step\n",
            "Epoch 74/100\n",
            "18/18 - 0s - loss: 4.1744e-05 - fn: 2.0000 - fp: 3.0000 - tn: 435.0000 - tp: 436.0000 - precision: 0.9932 - recall: 0.9954 - val_loss: 2.6242 - val_fn: 56.0000 - val_fp: 1105.0000 - val_tn: 1311.0000 - val_tp: 53.0000 - val_precision: 0.0458 - val_recall: 0.4862 - 292ms/epoch - 16ms/step\n",
            "Epoch 75/100\n",
            "18/18 - 0s - loss: 2.6378e-05 - fn: 1.0000 - fp: 2.0000 - tn: 436.0000 - tp: 437.0000 - precision: 0.9954 - recall: 0.9977 - val_loss: 1.8984 - val_fn: 69.0000 - val_fp: 821.0000 - val_tn: 1595.0000 - val_tp: 40.0000 - val_precision: 0.0465 - val_recall: 0.3670 - 310ms/epoch - 17ms/step\n",
            "Epoch 76/100\n",
            "18/18 - 0s - loss: 2.1036e-05 - fn: 1.0000 - fp: 2.0000 - tn: 436.0000 - tp: 437.0000 - precision: 0.9954 - recall: 0.9977 - val_loss: 2.6199 - val_fn: 56.0000 - val_fp: 1003.0000 - val_tn: 1413.0000 - val_tp: 53.0000 - val_precision: 0.0502 - val_recall: 0.4862 - 283ms/epoch - 16ms/step\n",
            "Epoch 77/100\n",
            "18/18 - 0s - loss: 6.3262e-05 - fn: 4.0000 - fp: 5.0000 - tn: 433.0000 - tp: 434.0000 - precision: 0.9886 - recall: 0.9909 - val_loss: 1.9895 - val_fn: 67.0000 - val_fp: 867.0000 - val_tn: 1549.0000 - val_tp: 42.0000 - val_precision: 0.0462 - val_recall: 0.3853 - 301ms/epoch - 17ms/step\n",
            "Epoch 78/100\n",
            "18/18 - 0s - loss: 7.0942e-05 - fn: 5.0000 - fp: 5.0000 - tn: 433.0000 - tp: 433.0000 - precision: 0.9886 - recall: 0.9886 - val_loss: 2.1635 - val_fn: 56.0000 - val_fp: 1032.0000 - val_tn: 1384.0000 - val_tp: 53.0000 - val_precision: 0.0488 - val_recall: 0.4862 - 293ms/epoch - 16ms/step\n",
            "Epoch 79/100\n",
            "18/18 - 0s - loss: 3.6850e-05 - fn: 3.0000 - fp: 2.0000 - tn: 436.0000 - tp: 435.0000 - precision: 0.9954 - recall: 0.9932 - val_loss: 2.1443 - val_fn: 59.0000 - val_fp: 1029.0000 - val_tn: 1387.0000 - val_tp: 50.0000 - val_precision: 0.0463 - val_recall: 0.4587 - 293ms/epoch - 16ms/step\n",
            "Epoch 80/100\n",
            "18/18 - 0s - loss: 3.6894e-05 - fn: 2.0000 - fp: 3.0000 - tn: 435.0000 - tp: 436.0000 - precision: 0.9932 - recall: 0.9954 - val_loss: 2.6882 - val_fn: 63.0000 - val_fp: 1073.0000 - val_tn: 1343.0000 - val_tp: 46.0000 - val_precision: 0.0411 - val_recall: 0.4220 - 270ms/epoch - 15ms/step\n",
            "Epoch 81/100\n",
            "18/18 - 0s - loss: 1.1111e-05 - fn: 0.0000e+00 - fp: 1.0000 - tn: 437.0000 - tp: 438.0000 - precision: 0.9977 - recall: 1.0000 - val_loss: 2.6393 - val_fn: 76.0000 - val_fp: 873.0000 - val_tn: 1543.0000 - val_tp: 33.0000 - val_precision: 0.0364 - val_recall: 0.3028 - 299ms/epoch - 17ms/step\n",
            "Epoch 82/100\n",
            "18/18 - 0s - loss: 2.1874e-05 - fn: 2.0000 - fp: 1.0000 - tn: 437.0000 - tp: 436.0000 - precision: 0.9977 - recall: 0.9954 - val_loss: 3.1716 - val_fn: 69.0000 - val_fp: 1061.0000 - val_tn: 1355.0000 - val_tp: 40.0000 - val_precision: 0.0363 - val_recall: 0.3670 - 287ms/epoch - 16ms/step\n",
            "Epoch 83/100\n",
            "18/18 - 0s - loss: 3.0157e-05 - fn: 1.0000 - fp: 2.0000 - tn: 436.0000 - tp: 437.0000 - precision: 0.9954 - recall: 0.9977 - val_loss: 2.4633 - val_fn: 74.0000 - val_fp: 851.0000 - val_tn: 1565.0000 - val_tp: 35.0000 - val_precision: 0.0395 - val_recall: 0.3211 - 273ms/epoch - 15ms/step\n",
            "Epoch 84/100\n",
            "18/18 - 0s - loss: 3.4541e-05 - fn: 3.0000 - fp: 2.0000 - tn: 436.0000 - tp: 435.0000 - precision: 0.9954 - recall: 0.9932 - val_loss: 2.6531 - val_fn: 73.0000 - val_fp: 936.0000 - val_tn: 1480.0000 - val_tp: 36.0000 - val_precision: 0.0370 - val_recall: 0.3303 - 300ms/epoch - 17ms/step\n",
            "Epoch 85/100\n",
            "18/18 - 0s - loss: 5.9609e-05 - fn: 4.0000 - fp: 6.0000 - tn: 432.0000 - tp: 434.0000 - precision: 0.9864 - recall: 0.9909 - val_loss: 2.7863 - val_fn: 60.0000 - val_fp: 1072.0000 - val_tn: 1344.0000 - val_tp: 49.0000 - val_precision: 0.0437 - val_recall: 0.4495 - 306ms/epoch - 17ms/step\n",
            "Epoch 86/100\n",
            "18/18 - 0s - loss: 7.9069e-05 - fn: 4.0000 - fp: 6.0000 - tn: 432.0000 - tp: 434.0000 - precision: 0.9864 - recall: 0.9909 - val_loss: 2.3678 - val_fn: 72.0000 - val_fp: 1083.0000 - val_tn: 1333.0000 - val_tp: 37.0000 - val_precision: 0.0330 - val_recall: 0.3394 - 293ms/epoch - 16ms/step\n",
            "Epoch 87/100\n",
            "18/18 - 0s - loss: 1.1366e-04 - fn: 5.0000 - fp: 6.0000 - tn: 432.0000 - tp: 433.0000 - precision: 0.9863 - recall: 0.9886 - val_loss: 1.8854 - val_fn: 68.0000 - val_fp: 1099.0000 - val_tn: 1317.0000 - val_tp: 41.0000 - val_precision: 0.0360 - val_recall: 0.3761 - 297ms/epoch - 16ms/step\n",
            "Epoch 88/100\n",
            "18/18 - 0s - loss: 4.4001e-05 - fn: 1.0000 - fp: 3.0000 - tn: 435.0000 - tp: 437.0000 - precision: 0.9932 - recall: 0.9977 - val_loss: 2.3231 - val_fn: 69.0000 - val_fp: 1013.0000 - val_tn: 1403.0000 - val_tp: 40.0000 - val_precision: 0.0380 - val_recall: 0.3670 - 296ms/epoch - 16ms/step\n",
            "Epoch 89/100\n",
            "18/18 - 0s - loss: 4.3269e-05 - fn: 2.0000 - fp: 4.0000 - tn: 434.0000 - tp: 436.0000 - precision: 0.9909 - recall: 0.9954 - val_loss: 2.6127 - val_fn: 71.0000 - val_fp: 983.0000 - val_tn: 1433.0000 - val_tp: 38.0000 - val_precision: 0.0372 - val_recall: 0.3486 - 284ms/epoch - 16ms/step\n",
            "Epoch 90/100\n",
            "18/18 - 0s - loss: 4.3647e-05 - fn: 2.0000 - fp: 1.0000 - tn: 437.0000 - tp: 436.0000 - precision: 0.9977 - recall: 0.9954 - val_loss: 3.3450 - val_fn: 74.0000 - val_fp: 975.0000 - val_tn: 1441.0000 - val_tp: 35.0000 - val_precision: 0.0347 - val_recall: 0.3211 - 278ms/epoch - 15ms/step\n",
            "Epoch 91/100\n",
            "18/18 - 0s - loss: 2.9324e-05 - fn: 1.0000 - fp: 2.0000 - tn: 436.0000 - tp: 437.0000 - precision: 0.9954 - recall: 0.9977 - val_loss: 2.7601 - val_fn: 72.0000 - val_fp: 920.0000 - val_tn: 1496.0000 - val_tp: 37.0000 - val_precision: 0.0387 - val_recall: 0.3394 - 296ms/epoch - 16ms/step\n",
            "Epoch 92/100\n",
            "18/18 - 0s - loss: 3.5018e-05 - fn: 1.0000 - fp: 3.0000 - tn: 435.0000 - tp: 437.0000 - precision: 0.9932 - recall: 0.9977 - val_loss: 2.0510 - val_fn: 75.0000 - val_fp: 920.0000 - val_tn: 1496.0000 - val_tp: 34.0000 - val_precision: 0.0356 - val_recall: 0.3119 - 294ms/epoch - 16ms/step\n",
            "Epoch 93/100\n",
            "18/18 - 0s - loss: 5.2857e-05 - fn: 4.0000 - fp: 4.0000 - tn: 434.0000 - tp: 434.0000 - precision: 0.9909 - recall: 0.9909 - val_loss: 1.7173 - val_fn: 71.0000 - val_fp: 919.0000 - val_tn: 1497.0000 - val_tp: 38.0000 - val_precision: 0.0397 - val_recall: 0.3486 - 274ms/epoch - 15ms/step\n",
            "Epoch 94/100\n",
            "18/18 - 0s - loss: 3.4910e-05 - fn: 2.0000 - fp: 1.0000 - tn: 437.0000 - tp: 436.0000 - precision: 0.9977 - recall: 0.9954 - val_loss: 3.6940 - val_fn: 52.0000 - val_fp: 1248.0000 - val_tn: 1168.0000 - val_tp: 57.0000 - val_precision: 0.0437 - val_recall: 0.5229 - 263ms/epoch - 15ms/step\n",
            "Epoch 95/100\n",
            "18/18 - 0s - loss: 7.5172e-05 - fn: 3.0000 - fp: 6.0000 - tn: 432.0000 - tp: 435.0000 - precision: 0.9864 - recall: 0.9932 - val_loss: 1.6872 - val_fn: 74.0000 - val_fp: 860.0000 - val_tn: 1556.0000 - val_tp: 35.0000 - val_precision: 0.0391 - val_recall: 0.3211 - 455ms/epoch - 25ms/step\n",
            "Epoch 96/100\n",
            "18/18 - 1s - loss: 4.8205e-05 - fn: 2.0000 - fp: 4.0000 - tn: 434.0000 - tp: 436.0000 - precision: 0.9909 - recall: 0.9954 - val_loss: 2.1860 - val_fn: 73.0000 - val_fp: 841.0000 - val_tn: 1575.0000 - val_tp: 36.0000 - val_precision: 0.0410 - val_recall: 0.3303 - 539ms/epoch - 30ms/step\n",
            "Epoch 97/100\n",
            "18/18 - 1s - loss: 3.3326e-05 - fn: 3.0000 - fp: 1.0000 - tn: 437.0000 - tp: 435.0000 - precision: 0.9977 - recall: 0.9932 - val_loss: 4.0058 - val_fn: 55.0000 - val_fp: 1117.0000 - val_tn: 1299.0000 - val_tp: 54.0000 - val_precision: 0.0461 - val_recall: 0.4954 - 551ms/epoch - 31ms/step\n",
            "Epoch 98/100\n",
            "18/18 - 0s - loss: 4.5961e-05 - fn: 4.0000 - fp: 3.0000 - tn: 435.0000 - tp: 434.0000 - precision: 0.9931 - recall: 0.9909 - val_loss: 2.8195 - val_fn: 81.0000 - val_fp: 842.0000 - val_tn: 1574.0000 - val_tp: 28.0000 - val_precision: 0.0322 - val_recall: 0.2569 - 426ms/epoch - 24ms/step\n",
            "Epoch 99/100\n",
            "18/18 - 1s - loss: 6.0932e-05 - fn: 2.0000 - fp: 5.0000 - tn: 433.0000 - tp: 436.0000 - precision: 0.9887 - recall: 0.9954 - val_loss: 3.4593 - val_fn: 61.0000 - val_fp: 1011.0000 - val_tn: 1405.0000 - val_tp: 48.0000 - val_precision: 0.0453 - val_recall: 0.4404 - 557ms/epoch - 31ms/step\n",
            "Epoch 100/100\n",
            "18/18 - 0s - loss: 5.1698e-05 - fn: 5.0000 - fp: 2.0000 - tn: 436.0000 - tp: 433.0000 - precision: 0.9954 - recall: 0.9886 - val_loss: 2.0066 - val_fn: 60.0000 - val_fp: 876.0000 - val_tn: 1540.0000 - val_tp: 49.0000 - val_precision: 0.0530 - val_recall: 0.4495 - 343ms/epoch - 19ms/step\n"
          ]
        }
      ],
      "source": [
        "class_weight = {0: weight_for_0, 1: weight_for_1}\n",
        "#random_seed = 42\n",
        "history = model.fit(\n",
        "    train_features,\n",
        "    train_targets,\n",
        "    batch_size=50,\n",
        "    epochs=100,\n",
        "    verbose=2,\n",
        "    validation_data=(val_features, val_targets),\n",
        "    class_weight=class_weight,\n",
        ")"
      ]
    },
    {
      "cell_type": "markdown",
      "metadata": {
        "id": "YxygcDrwcukN"
      },
      "source": [
        "### Predicciones"
      ]
    },
    {
      "cell_type": "code",
      "execution_count": 59,
      "metadata": {
        "colab": {
          "base_uri": "https://localhost:8080/"
        },
        "id": "JeVW-wPTct_q",
        "outputId": "4b3c12ca-b1f8-4c5e-92fa-71dc9d0b4250"
      },
      "outputs": [
        {
          "output_type": "stream",
          "name": "stdout",
          "text": [
            "28/28 [==============================] - 0s 2ms/step\n",
            "79/79 [==============================] - 0s 3ms/step\n"
          ]
        },
        {
          "output_type": "execute_result",
          "data": {
            "text/plain": [
              "array([0., 0., 0., ..., 0., 0., 1.], dtype=float32)"
            ]
          },
          "metadata": {},
          "execution_count": 59
        }
      ],
      "source": [
        "# predict the training set\n",
        "y_pred_train = model.predict(train_features)\n",
        "y_pred_train[y_pred_train > 0.5] = 1\n",
        "y_pred_train[y_pred_train <= 0.5] = 0\n",
        "y_pred_train.reshape((y_pred_train.shape[0]))\n",
        "# Predicting the validation set\n",
        "y_pred_val = model.predict(val_features)\n",
        "y_pred_val[y_pred_val > 0.5] = 1\n",
        "y_pred_val[y_pred_val <= 0.5] = 0\n",
        "y_pred_val.reshape((y_pred_val.shape[0]))"
      ]
    },
    {
      "cell_type": "markdown",
      "metadata": {
        "id": "TJwuQgUec2CW"
      },
      "source": [
        "### Resultados\n",
        "Calcula métricas"
      ]
    },
    {
      "cell_type": "code",
      "execution_count": 60,
      "metadata": {
        "id": "CxLT8iGzczEN"
      },
      "outputs": [],
      "source": [
        "#\n",
        "# elimina dimensiones sobrantes\n",
        "val_targets = np.squeeze(val_targets)\n",
        "y_pred_val = np.squeeze(y_pred_val)\n",
        "train_targets = np.squeeze(train_targets)\n",
        "y_pred_train = np.squeeze(y_pred_train)\n",
        "#\n",
        "# falsos negativos validación\n",
        "fn_val = FalseNegatives()\n",
        "fn_val.update_state(val_targets, y_pred_val)\n",
        "fn_val = fn_val.result().numpy()\n",
        "#\n",
        "# falsos negativos entrenamiento\n",
        "fn_train = FalseNegatives()\n",
        "fn_train.update_state(train_targets, y_pred_train)\n",
        "fn_train = fn_train.result().numpy()\n",
        "#\n",
        "# falsos positivos validación\n",
        "fp_val = FalsePositives()\n",
        "fp_val.update_state(val_targets, y_pred_val)\n",
        "fp_val = fp_val.result().numpy()\n",
        "#\n",
        "# falsos positivos entrenamiento\n",
        "fp_train = FalsePositives()\n",
        "fp_train.update_state(train_targets, y_pred_train)\n",
        "fp_train = fp_train.result().numpy()\n",
        "#\n",
        "# Precision validación\n",
        "pre_val = Precision()\n",
        "pre_val.update_state(val_targets, y_pred_val)\n",
        "pre_val = pre_val.result().numpy()\n",
        "#\n",
        "# falsos negativos entrenamiento\n",
        "pre_train = Precision()\n",
        "pre_train.update_state(train_targets, y_pred_train)\n",
        "pre_train = pre_train.result().numpy()\n",
        "#\n",
        "# recall validación\n",
        "re_val = Recall()\n",
        "re_val.update_state(val_targets, y_pred_val)\n",
        "re_val = re_val.result().numpy()\n",
        "#\n",
        "# recall entrenamiento\n",
        "re_train = Recall()\n",
        "re_train.update_state(train_targets, y_pred_train)\n",
        "re_train = re_train.result().numpy()\n",
        "#\n",
        "\n",
        "# diccionario\n",
        "metricas = {'Falsos_positivos_train':fp_train, 'Falsos_positivos_val':fp_val,\n",
        "           '%Falsos_positivos': np.round((fp_train+fp_val)/ len(X)*100,4),\n",
        "           'Falsos_negativos_train':fn_train, 'Falsos_negativos_val':fn_val,\n",
        "           '%Falsos_negativos': np.round((fn_train+fn_val)/ len(X)*100,4),\n",
        "           'Precision_train': pre_train, 'Precision_val': pre_val,\n",
        "           'Recall_train': re_train, 'Recall_val':re_val,\n",
        "            'F1-score_val': 2*(pre_val*re_val)/(pre_val+re_val)*100  }"
      ]
    },
    {
      "cell_type": "code",
      "source": [
        "metricas"
      ],
      "metadata": {
        "colab": {
          "base_uri": "https://localhost:8080/"
        },
        "id": "exfljjwGFF3D",
        "outputId": "badf238e-5157-4ce2-cc2a-028a39891157"
      },
      "execution_count": 61,
      "outputs": [
        {
          "output_type": "execute_result",
          "data": {
            "text/plain": [
              "{'Falsos_positivos_train': 0.0,\n",
              " 'Falsos_positivos_val': 876.0,\n",
              " '%Falsos_positivos': 25.7571,\n",
              " 'Falsos_negativos_train': 2.0,\n",
              " 'Falsos_negativos_val': 60.0,\n",
              " '%Falsos_negativos': 1.823,\n",
              " 'Precision_train': 1.0,\n",
              " 'Precision_val': 0.052972972,\n",
              " 'Recall_train': 0.9954338,\n",
              " 'Recall_val': 0.44954127,\n",
              " 'F1-score_val': 9.477756532899052}"
            ]
          },
          "metadata": {},
          "execution_count": 61
        }
      ]
    },
    {
      "cell_type": "markdown",
      "metadata": {
        "id": "USZMq9M9eUWY"
      },
      "source": [
        "### Evaluación del modelo"
      ]
    },
    {
      "cell_type": "code",
      "execution_count": 62,
      "metadata": {
        "id": "FtOIS6moeTCB"
      },
      "outputs": [],
      "source": [
        "\n",
        "def plot_metric(history, metric):\n",
        "    train_metrics = history.history[metric]\n",
        "    val_metrics = history.history['val_'+ metric]\n",
        "    epochs = range(1, len(train_metrics) + 1)\n",
        "    plt.plot(epochs, train_metrics, 'bo--')\n",
        "    plt.plot(epochs, val_metrics, 'ro-')\n",
        "    plt.title('Entrenamiento y validación '+ metric)\n",
        "    plt.xlabel(\"Epochs\")\n",
        "    plt.ylabel(metric)\n",
        "    plt.legend([\"train_\"+metric, 'val_'+metric])\n",
        "    plt.show()"
      ]
    },
    {
      "cell_type": "code",
      "execution_count": 63,
      "metadata": {
        "colab": {
          "base_uri": "https://localhost:8080/",
          "height": 478
        },
        "id": "_MVZ0L3weZGB",
        "outputId": "b29e3489-aef1-4d92-e172-4db81f6d24b3"
      },
      "outputs": [
        {
          "output_type": "display_data",
          "data": {
            "text/plain": [
              "<Figure size 640x480 with 1 Axes>"
            ],
            "image/png": "[encoded data removed]"
          },
          "metadata": {}
        }
      ],
      "source": [
        "plot_metric(history, 'loss')"
      ]
    },
    {
      "cell_type": "code",
      "execution_count": 64,
      "metadata": {
        "colab": {
          "base_uri": "https://localhost:8080/",
          "height": 478
        },
        "id": "GtX-3KFmegCc",
        "outputId": "b57897f2-cbdc-41df-b7d0-88627945c346"
      },
      "outputs": [
        {
          "output_type": "display_data",
          "data": {
            "text/plain": [
              "<Figure size 640x480 with 1 Axes>"
            ],
            "image/png": "[encoded data removed]"
          },
          "metadata": {}
        }
      ],
      "source": [
        "plot_metric(history, 'recall')"
      ]
    }
  ],
  "metadata": {
    "colab": {
      "provenance": [],
      "toc_visible": true,
      "include_colab_link": true
    },
    "kernelspec": {
      "display_name": "Python 3",
      "name": "python3"
    },
    "language_info": {
      "name": "python"
    }
  },
  "nbformat": 4,
  "nbformat_minor": 0
}